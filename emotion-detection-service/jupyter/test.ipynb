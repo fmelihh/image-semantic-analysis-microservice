{
 "cells": [
  {
   "cell_type": "code",
   "execution_count": 1,
   "id": "301728b5-f8b6-427f-8451-5492ba03c7b8",
   "metadata": {},
   "outputs": [],
   "source": [
    "from tensorflow.keras.models import model_from_json"
   ]
  },
  {
   "cell_type": "code",
   "execution_count": 4,
   "id": "ccb13eb3-a6e2-4074-893f-f6711127befd",
   "metadata": {},
   "outputs": [],
   "source": [
    "json_file = open(\"emotion_model.json\", \"r\")"
   ]
  },
  {
   "cell_type": "code",
   "execution_count": 5,
   "id": "ea7db324-9703-4c80-b19e-a83b54cbe4d6",
   "metadata": {},
   "outputs": [],
   "source": [
    "loaded_model_json = json_file.read()"
   ]
  },
  {
   "cell_type": "code",
   "execution_count": 6,
   "id": "8c5b9de4-4d43-4d4a-8802-159cbaecf775",
   "metadata": {},
   "outputs": [],
   "source": [
    "json_file.close()"
   ]
  },
  {
   "cell_type": "code",
   "execution_count": 7,
   "id": "361147b8-379e-4fd1-b571-ea558daa3c99",
   "metadata": {},
   "outputs": [],
   "source": [
    "emotion_model = model_from_json(loaded_model_json)"
   ]
  },
  {
   "cell_type": "code",
   "execution_count": 8,
   "id": "e3909d17-a8a9-4db5-89b8-091f25c546d0",
   "metadata": {},
   "outputs": [],
   "source": [
    "emotion_model.load_weights(\"emotion_model..weights.h5\")"
   ]
  },
  {
   "cell_type": "code",
   "execution_count": 9,
   "id": "35961059-57bb-47df-a40a-25d2713a55ad",
   "metadata": {},
   "outputs": [],
   "source": [
    "emotion_dict = {0: \"Angry\", 1: \"Disgusted\", 2: \"Fearful\", 3: \"Happy\", 4:\"Neutral\", 5: \"Sad\", 6: \"Surprised\"}"
   ]
  },
  {
   "cell_type": "code",
   "execution_count": null,
   "id": "d491611b-e4c9-472c-bee0-3443000269a0",
   "metadata": {},
   "outputs": [],
   "source": []
  }
 ],
 "metadata": {
  "kernelspec": {
   "display_name": "Python 3 (ipykernel)",
   "language": "python",
   "name": "python3"
  },
  "language_info": {
   "codemirror_mode": {
    "name": "ipython",
    "version": 3
   },
   "file_extension": ".py",
   "mimetype": "text/x-python",
   "name": "python",
   "nbconvert_exporter": "python",
   "pygments_lexer": "ipython3",
   "version": "3.11.5"
  }
 },
 "nbformat": 4,
 "nbformat_minor": 5
}
